{
 "cells": [
  {
   "cell_type": "code",
   "execution_count": null,
   "metadata": {},
   "outputs": [],
   "source": [
    "# Importe as bibliotecas necessárias\n",
    "import pandas as pd\n",
    "from sklearn.model_selection import train_test_split\n",
    "from sklearn.ensemble import RandomForestClassifier\n",
    "from sklearn.metrics import accuracy_score, classification_report, confusion_matrix\n",
    "import matplotlib.pyplot as plt"
   ]
  },
  {
   "cell_type": "code",
   "execution_count": null,
   "metadata": {},
   "outputs": [],
   "source": [
    "# Carregue seus dados do banco de dados ou arquivo CSV\n",
    "# Neste exemplo, vou criar um DataFrame de exemplo\n",
    "data = {\n",
    "    'Feature1': [1, 2, 3, 4, 5, 6, 7, 8, 9, 10],\n",
    "    'Feature2': [10, 9, 8, 7, 6, 5, 4, 3, 2, 1],\n",
    "    'Label': [0, 1, 0, 1, 0, 1, 0, 1, 0, 1]  # 0 ou 1 representando o resultado do preenchimento\n",
    "}\n",
    "\n",
    "df = pd.DataFrame(data)\n",
    "\n",
    "# Separe os dados em conjuntos de treinamento e teste\n",
    "X = df[['Feature1', 'Feature2']]\n",
    "y = df['Label']\n",
    "X_train, X_test, y_train, y_test = train_test_split(X, y, test_size=0.2, random_state=42)\n",
    "\n",
    "# Crie e treine o modelo Random Forest\n",
    "model = RandomForestClassifier(random_state=42)\n",
    "model.fit(X_train, y_train)\n",
    "\n",
    "# Faça previsões no conjunto de teste\n",
    "y_pred = model.predict(X_test)\n",
    "\n",
    "# Avalie o desempenho do modelo\n",
    "accuracy = accuracy_score(y_test, y_pred)\n",
    "print(f'Acurácia do modelo: {accuracy:.2f}')\n",
    "\n",
    "# Exiba a matriz de confusão\n",
    "cm = confusion_matrix(y_test, y_pred)\n",
    "print('Matriz de Confusão:')\n",
    "print(cm)\n",
    "\n",
    "# Exiba o relatório de classificação\n",
    "print('Relatório de Classificação:')\n",
    "print(classification_report(y_test, y_pred))\n",
    "\n",
    "# Visualize a decisão do modelo em um gráfico\n",
    "plt.figure(figsize=(8, 6))\n",
    "plt.scatter(X_test['Feature1'], X_test['Feature2'], c=y_pred, cmap='coolwarm', marker='x')\n",
    "plt.title('Decisões do Modelo')\n",
    "plt.xlabel('Feature1')\n",
    "plt.ylabel('Feature2')\n",
    "plt.show()\n"
   ]
  }
 ],
 "metadata": {
  "kernelspec": {
   "display_name": "venv",
   "language": "python",
   "name": "python3"
  },
  "language_info": {
   "name": "python",
   "version": "3.12.1"
  }
 },
 "nbformat": 4,
 "nbformat_minor": 2
}
